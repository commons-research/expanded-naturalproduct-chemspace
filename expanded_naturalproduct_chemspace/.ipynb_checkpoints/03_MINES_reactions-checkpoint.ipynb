{
 "cells": [
  {
   "cell_type": "markdown",
   "id": "254aee07-6647-433b-b11b-4fd4a00a2cb6",
   "metadata": {},
   "source": [
    "# MINES - Results"
   ]
  },
  {
   "cell_type": "markdown",
   "id": "f80b42c1-15fa-4ec4-801e-8497eebb2871",
   "metadata": {},
   "source": [
    "## MongoDB (Querys)"
   ]
  },
  {
   "cell_type": "markdown",
   "id": "eb7dc3bb-ceb5-4594-984b-5ff2deb72696",
   "metadata": {},
   "source": [
    "### Starting Compounds --> Predicted\n",
    "\n",
    "To analyse the results, it is more practical to make tables of interest. This can be done in compase (GUI for Mongo) and adapted to here."
   ]
  },
  {
   "cell_type": "code",
   "execution_count": 1,
   "id": "f349937f-189b-46da-8155-cec2f6c3674d",
   "metadata": {},
   "outputs": [],
   "source": [
    "from pymongo import MongoClient\n",
    "import polars as pl\n",
    "\n",
    "# change the configsetting, to see the full tables\n",
    "pl.Config.set_tbl_rows(100)\n",
    "pl.Config(fmt_str_lengths=550)\n",
    "\n",
    "\n",
    "client = MongoClient('mongodb://localhost:27017/test-mines')\n",
    "result = client['lotus_mines_enzymatic']['reactions'].aggregate([\n",
    "    {\n",
    "        '$project': {\n",
    "            '_id': 1, \n",
    "            'reactants': {\n",
    "                '$map': {\n",
    "                    'input': '$Reactants', \n",
    "                    'as': 'reactant', \n",
    "                    'in': {\n",
    "                        '$arrayElemAt': [\n",
    "                            '$$reactant', 1\n",
    "                        ]\n",
    "                    }\n",
    "                }\n",
    "            }, \n",
    "            'products': {\n",
    "                '$map': {\n",
    "                    'input': '$Products', \n",
    "                    'as': 'product', \n",
    "                    'in': {\n",
    "                        '$arrayElemAt': [\n",
    "                            '$$product', 1\n",
    "                        ]\n",
    "                    }\n",
    "                }\n",
    "            }\n",
    "        }\n",
    "    }, {\n",
    "        '$lookup': {\n",
    "            'from': 'compounds', \n",
    "            'localField': 'reactants', \n",
    "            'foreignField': '_id', \n",
    "            'as': 'reactant_details'\n",
    "        }\n",
    "    }, {\n",
    "        '$lookup': {\n",
    "            'from': 'compounds', \n",
    "            'localField': 'products', \n",
    "            'foreignField': '_id', \n",
    "            'as': 'product_details'\n",
    "        }\n",
    "    }, {\n",
    "        '$addFields': {\n",
    "            'reactants': {\n",
    "                '$map': {\n",
    "                    'input': '$reactant_details', \n",
    "                    'as': 'detail', \n",
    "                    'in': {\n",
    "                        'id': '$$detail._id', \n",
    "                        'type': '$$detail.Type'\n",
    "                    }\n",
    "                }\n",
    "            }, \n",
    "            'products': {\n",
    "                '$map': {\n",
    "                    'input': '$product_details', \n",
    "                    'as': 'detail', \n",
    "                    'in': {\n",
    "                        'id': '$$detail._id', \n",
    "                        'type': '$$detail.Type'\n",
    "                    }\n",
    "                }\n",
    "            }\n",
    "        }\n",
    "    }, {\n",
    "        '$project': {\n",
    "            'reactant_details': 0, \n",
    "            'product_details': 0\n",
    "        }\n",
    "    }, {\n",
    "        '$addFields': {\n",
    "            'starting_compounds': {\n",
    "                '$filter': {\n",
    "                    'input': '$reactants', \n",
    "                    'as': 'reactant', \n",
    "                    'cond': {\n",
    "                        '$eq': [\n",
    "                            '$$reactant.type', 'Starting Compound'\n",
    "                        ]\n",
    "                    }\n",
    "                }\n",
    "            }, \n",
    "            'predicted_compounds': {\n",
    "                '$filter': {\n",
    "                    'input': '$products', \n",
    "                    'as': 'product', \n",
    "                    'cond': {\n",
    "                        '$eq': [\n",
    "                            '$$product.type', 'Predicted'\n",
    "                        ]\n",
    "                    }\n",
    "                }\n",
    "            }\n",
    "        }\n",
    "    }, {\n",
    "        '$project': {\n",
    "            '_id': 1, \n",
    "            'starting_compounds': '$starting_compounds.id', \n",
    "            'predicted_compounds': '$predicted_compounds.id'\n",
    "        }\n",
    "    }\n",
    "])"
   ]
  },
  {
   "cell_type": "code",
   "execution_count": null,
   "id": "8d033e33-a76e-44f1-9ce0-821a68eafa3a",
   "metadata": {},
   "outputs": [],
   "source": [
    "%%time\n",
    "\n",
    "# Collect all results into a list\n",
    "result_list = list(result)\n",
    "\n",
    "# Transform the result into a Polars DataFrame\n",
    "df = pl.DataFrame({\n",
    "    'reaction_id': [doc['_id'] for doc in result_list],\n",
    "    'starting_compounds': [doc.get('starting_compounds', []) for doc in result_list],\n",
    "    'predicted_compounds': [doc.get('predicted_compounds', []) for doc in result_list],\n",
    "})\n",
    "\n",
    "# Print the DataFrame\n",
    "print(df)"
   ]
  },
  {
   "cell_type": "code",
   "execution_count": null,
   "id": "30ad3eb7-f9a2-44d8-abcf-d8c648a9fc6d",
   "metadata": {},
   "outputs": [],
   "source": [
    "df_exploded = df.explode(\"predicted_compounds\").explode(\"starting_compounds\")\n",
    "\n",
    "df_exploded"
   ]
  },
  {
   "cell_type": "code",
   "execution_count": null,
   "id": "f48ebaa7-de51-43fe-bee2-942d4b332ddd",
   "metadata": {},
   "outputs": [],
   "source": [
    "df_starting_compounds = df.with_columns(counts_starting_compounds = pl.col(\"starting_compounds\").list.len())\n",
    "df_starting_compounds_unique = df_starting_compounds.select(pl.col(\"counts_starting_compounds\").unique())\n",
    "\n",
    "df_predicted_compounds = df.with_columns(counts_predicted_compounds = pl.col(\"predicted_compounds\").list.len())\n",
    "df_predicted_compounds_unique = df_predicted_compounds.select(pl.col(\"counts_predicted_compounds\").unique())\n",
    "\n",
    "df_starting_compounds_unique.max(), df_predicted_compounds_unique.max()"
   ]
  },
  {
   "cell_type": "markdown",
   "id": "8fffa570-5a56-4e2e-baa7-1f3af8cffb4d",
   "metadata": {},
   "source": [
    "## Analysis"
   ]
  },
  {
   "cell_type": "code",
   "execution_count": null,
   "id": "6233477d-50da-4ccd-8c5f-af41bd6ef72d",
   "metadata": {},
   "outputs": [],
   "source": [
    "import matplotlib.pyplot as plt\n",
    "import polars as pl\n",
    "import numpy as np\n",
    "\n",
    "# change the configsetting, to see the full tables\n",
    "pl.Config.set_tbl_rows(7)\n",
    "pl.Config(fmt_str_lengths=550)\n",
    "\n",
    "df = pl.read_parquet(\"../data/MINES/reactions_compounds_list.parquet\")"
   ]
  },
  {
   "cell_type": "code",
   "execution_count": null,
   "id": "9dc9826c-aaca-437a-897a-be0afe930209",
   "metadata": {},
   "outputs": [],
   "source": [
    "# Filter out rows with empty lists\n",
    "df_filtered = df.filter((pl.col(\"starting_compounds\").list.len() > 0) & (pl.col(\"predicted_compounds\").list.len() > 0))\n",
    "\n",
    "# Ensure both columns have matching element counts\n",
    "df_exploded = df_filtered.explode(['starting_compounds']).explode(['predicted_compounds'])\n",
    "\n",
    "df_exploded"
   ]
  },
  {
   "cell_type": "code",
   "execution_count": null,
   "id": "bd52be4f-d8bc-4e3e-9740-349d82df95c0",
   "metadata": {},
   "outputs": [],
   "source": [
    "print( df_exploded.describe() )\n",
    "\n",
    "print(\"reaction_id:\", df_exploded[:, 'reaction_id'].unique().count())\n",
    "print(\"starting compounds: \", df_exploded[:, 'starting_compounds'].unique().count())\n",
    "print(\"predicted_compounds:\", df_exploded[:, 'predicted_compounds'].unique().count())\n"
   ]
  },
  {
   "cell_type": "code",
   "execution_count": null,
   "id": "4bf66372-32f0-4c32-bf82-c3426491a6c0",
   "metadata": {},
   "outputs": [],
   "source": [
    "# Create a directed graph\n",
    "G = nx.DiGraph()\n",
    "\n",
    "# Convert the DataFrame to a list of dictionaries\n",
    "rows = df_exploded.to_dicts()\n",
    "\n",
    "# Add edges to the graph\n",
    "for row in rows:\n",
    "    starting_compound = row['starting_compounds']\n",
    "    predicted_compound = row['predicted_compounds']\n",
    "    G.add_edge(starting_compound, predicted_compound)\n",
    "\n",
    "# Draw the graph\n",
    "plt.figure(figsize=(12, 8))\n",
    "pos = nx.spring_layout(G)\n",
    "nx.draw(G, pos, with_labels=True, node_size=3000, node_color=\"skyblue\", font_size=10, font_color=\"black\", font_weight=\"bold\", edge_color=\"gray\")\n",
    "plt.title('Compound Prediction Network')\n",
    "plt.show()"
   ]
  },
  {
   "cell_type": "code",
   "execution_count": null,
   "id": "6b116ae2-368e-4bac-8e1b-d4e6eec12c79",
   "metadata": {},
   "outputs": [],
   "source": []
  }
 ],
 "metadata": {
  "kernelspec": {
   "display_name": "Python 3 (ipykernel)",
   "language": "python",
   "name": "python3"
  },
  "language_info": {
   "codemirror_mode": {
    "name": "ipython",
    "version": 3
   },
   "file_extension": ".py",
   "mimetype": "text/x-python",
   "name": "python",
   "nbconvert_exporter": "python",
   "pygments_lexer": "ipython3",
   "version": "3.10.12"
  }
 },
 "nbformat": 4,
 "nbformat_minor": 5
}
