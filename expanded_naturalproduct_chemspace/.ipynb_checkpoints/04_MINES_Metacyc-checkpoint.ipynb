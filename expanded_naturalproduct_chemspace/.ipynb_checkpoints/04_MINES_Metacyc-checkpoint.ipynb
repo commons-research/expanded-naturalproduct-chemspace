{
 "cells": [
  {
   "cell_type": "markdown",
   "id": "d074debe-484a-47a7-879d-49b3a1286c2d",
   "metadata": {},
   "source": [
    "# Search for known compounds"
   ]
  },
  {
   "cell_type": "markdown",
   "id": "645d3a0a-f6a0-4681-a43a-fb4bffc0f29f",
   "metadata": {},
   "source": [
    "With the database MetaCyc <https://metacyc.org/> the generated \"predicted compounds\" will be searched."
   ]
  },
  {
   "cell_type": "code",
   "execution_count": null,
   "id": "cd374628-ec7a-496b-8787-b491f52efe71",
   "metadata": {},
   "outputs": [],
   "source": [
    "import pymongo\n",
    "import requests\n",
    "from bs4 import BeautifulSoup\n",
    "import polars as pl\n",
    "\n",
    "# Function to search MetaCyc for a compound based on InChIKey or SMILES\n",
    "def search_metacyc(query):\n",
    "    search_url = \"https://metacyc.org/compound?type=NIL&object=\"\n",
    "    \n",
    "    response = requests.get(search_url + query)\n",
    "    if response.status_code == 200:\n",
    "        return response.text\n",
    "    else:\n",
    "        print(f\"Error: Unable to retrieve data for {query} (status code {response.status_code})\")\n",
    "        return None\n",
    "\n",
    "# Function to extract the relevant MetaCyc link from the HTML\n",
    "def extract_metacyc_link(html_content):\n",
    "    soup = BeautifulSoup(html_content, 'html.parser')\n",
    "    link_tag = soup.find('a', href=True)\n",
    "    \n",
    "    if link_tag:\n",
    "        return \"https://metacyc.org\" + link_tag['href']\n",
    "    else:\n",
    "        return None\n",
    "\n",
    "# Connect to MongoDB\n",
    "client = pymongo.MongoClient(\"mongodb://localhost:27017/\")\n",
    "db = client[\"lotus_mines_enzymatic\"]\n",
    "compounds_collection = db[\"compounds\"]\n",
    "\n",
    "# Initialize lists for Polars DataFrame\n",
    "compound_ids = []\n",
    "smiles_links = []\n",
    "inchi_links = []\n",
    "\n",
    "# Iterate through the compounds in the MongoDB collection\n",
    "for compound in compounds_collection.find():\n",
    "    compound_id = compound.get('_id')\n",
    "    inchi_key = compound.get('InChI_key')\n",
    "    smiles = compound.get('SMILES')\n",
    "    \n",
    "    # Search MetaCyc using the InChIKey\n",
    "    inchi_html = search_metacyc(inchi_key)\n",
    "    inchi_link = extract_metacyc_link(inchi_html) if inchi_html else None\n",
    "    \n",
    "    # Search MetaCyc using the SMILES\n",
    "    smiles_html = search_metacyc(smiles)\n",
    "    smiles_link = extract_metacyc_link(smiles_html) if smiles_html else None\n",
    "    \n",
    "    # Store results in lists\n",
    "    compound_ids.append(compound_id)\n",
    "    smiles_links.append(smiles_link)\n",
    "    inchi_links.append(inchi_link)\n",
    "\n",
    "print(f\"annotated compounds in metacyc: {len(compound_ids)} | {len(smiles_links)} | {len(inchi_links)}\")"
   ]
  }
 ],
 "metadata": {
  "kernelspec": {
   "display_name": "Python 3 (ipykernel)",
   "language": "python",
   "name": "python3"
  },
  "language_info": {
   "codemirror_mode": {
    "name": "ipython",
    "version": 3
   },
   "file_extension": ".py",
   "mimetype": "text/x-python",
   "name": "python",
   "nbconvert_exporter": "python",
   "pygments_lexer": "ipython3",
   "version": "3.12.2"
  }
 },
 "nbformat": 4,
 "nbformat_minor": 5
}
