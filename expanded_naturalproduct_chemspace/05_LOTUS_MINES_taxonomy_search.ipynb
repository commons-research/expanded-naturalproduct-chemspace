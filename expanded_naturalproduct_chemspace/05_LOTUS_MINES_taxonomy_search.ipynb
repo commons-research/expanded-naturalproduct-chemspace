{
 "cells": [
  {
   "cell_type": "markdown",
   "id": "c29548cd-4084-4add-bf05-851b5bd307b7",
   "metadata": {},
   "source": [
    "# Taxonomy search of predicted"
   ]
  },
  {
   "cell_type": "markdown",
   "id": "8f382b1c-de70-4c44-8014-586e89f04556",
   "metadata": {},
   "source": [
    "Given a known compound (SMILES) from LOTUS, we like to see the predicted compounds. "
   ]
  },
  {
   "cell_type": "code",
   "execution_count": null,
   "id": "6753d546-a107-4f41-a938-33144af94b3a",
   "metadata": {},
   "outputs": [],
   "source": []
  }
 ],
 "metadata": {
  "kernelspec": {
   "display_name": "Python 3 (ipykernel)",
   "language": "python",
   "name": "python3"
  },
  "language_info": {
   "codemirror_mode": {
    "name": "ipython",
    "version": 3
   },
   "file_extension": ".py",
   "mimetype": "text/x-python",
   "name": "python",
   "nbconvert_exporter": "python",
   "pygments_lexer": "ipython3",
   "version": "3.10.12"
  }
 },
 "nbformat": 4,
 "nbformat_minor": 5
}
