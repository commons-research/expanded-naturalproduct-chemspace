{
 "cells": [
  {
   "cell_type": "code",
   "execution_count": 1,
   "id": "6233477d-50da-4ccd-8c5f-af41bd6ef72d",
   "metadata": {},
   "outputs": [],
   "source": [
    "import matplotlib.pyplot as plt\n",
    "import polars as pl\n",
    "import numpy as np\n",
    "\n",
    "# change the configsetting, to see the full tables\n",
    "pl.Config.set_tbl_rows(7)\n",
    "pl.Config(fmt_str_lengths=550)\n",
    "\n",
    "df = pl.read_parquet(\"../data/MINES/reactions_compounds_list.parquet\")"
   ]
  },
  {
   "cell_type": "code",
   "execution_count": 2,
   "id": "9dc9826c-aaca-437a-897a-be0afe930209",
   "metadata": {},
   "outputs": [
    {
     "data": {
      "text/html": [
       "<div><style>\n",
       ".dataframe > thead > tr,\n",
       ".dataframe > tbody > tr {\n",
       "  text-align: right;\n",
       "  white-space: pre-wrap;\n",
       "}\n",
       "</style>\n",
       "<small>shape: (3_455_876, 3)</small><table border=\"1\" class=\"dataframe\"><thead><tr><th>reaction_id</th><th>starting_compounds</th><th>predicted_compounds</th></tr><tr><td>str</td><td>str</td><td>str</td></tr></thead><tbody><tr><td>&quot;R5d8539f1d9a5e857189956bad8eb48e7b11137a25b12c2a7293fa1b61562e629&quot;</td><td>&quot;Ce8bc5cd3aa30776ab6d35fdc2bcc4707f4ac2919&quot;</td><td>&quot;C878f017efe6de2805a953d0ca9b8491274a29290&quot;</td></tr><tr><td>&quot;R6a89aaf90529aa474f537c081d71ff584fa0179bdde8269c9ae4b80b2e5c96f7&quot;</td><td>&quot;Ce8bc5cd3aa30776ab6d35fdc2bcc4707f4ac2919&quot;</td><td>&quot;C54130f1c76aaa5380fa631a6a659121284978c5d&quot;</td></tr><tr><td>&quot;Rf0c39549766c89963dbb1a98f8f1d4b89431cf4ee60f962c7703ef9df5bcb327&quot;</td><td>&quot;Ce8bc5cd3aa30776ab6d35fdc2bcc4707f4ac2919&quot;</td><td>&quot;Cfa5e885b86c8c37a465cad5238ed62672498a45d&quot;</td></tr><tr><td>&quot;Rad931d485dae8cbc9aa07c1301163f00258690adddbc7279de2b5c92ebca656f&quot;</td><td>&quot;Ce8bc5cd3aa30776ab6d35fdc2bcc4707f4ac2919&quot;</td><td>&quot;C57a73b796ef9de341670ad4f895779c4ce0d4623&quot;</td></tr><tr><td>&hellip;</td><td>&hellip;</td><td>&hellip;</td></tr><tr><td>&quot;Rc52c2d326695e43c104ecd4a11b20ead83987b49c39bbc0c165c7d25b8fef8b5&quot;</td><td>&quot;C92af25813ba38f4e1f385dc92b0e253dc7a01f6c&quot;</td><td>&quot;C5e8022bf3b0f1ee82b5ec45f5c89f69ea2ab5a29&quot;</td></tr><tr><td>&quot;Rb993c3707a42c88a143334e22d4af7eacf0dde11657106b272262f033e17d424&quot;</td><td>&quot;C326b3a90bc4bff0d2cf249e40ce517af77a62d0d&quot;</td><td>&quot;Ca4ef9345ff26e4fec21cc7fb72fa9dca2f86fcc5&quot;</td></tr><tr><td>&quot;Rc1fdf76ef8f34b7c3a7538fcb9924dd3a44615fd990b2da338cc61b791734e6d&quot;</td><td>&quot;C62f5460835a65fcb75c6c8da0f7f6f90c060d900&quot;</td><td>&quot;Ce9a6758cc6c58ca618292cde869df568a1c34cb8&quot;</td></tr></tbody></table></div>"
      ],
      "text/plain": [
       "shape: (3_455_876, 3)\n",
       "┌────────────────────────────────┬────────────────────────────────┬────────────────────────────────┐\n",
       "│ reaction_id                    ┆ starting_compounds             ┆ predicted_compounds            │\n",
       "│ ---                            ┆ ---                            ┆ ---                            │\n",
       "│ str                            ┆ str                            ┆ str                            │\n",
       "╞════════════════════════════════╪════════════════════════════════╪════════════════════════════════╡\n",
       "│ R5d8539f1d9a5e857189956bad8eb4 ┆ Ce8bc5cd3aa30776ab6d35fdc2bcc4 ┆ C878f017efe6de2805a953d0ca9b84 │\n",
       "│ 8e7b11137a25b12c2a7293fa1b6156 ┆ 707f4ac2919                    ┆ 91274a29290                    │\n",
       "│ 2e629                          ┆                                ┆                                │\n",
       "│ R6a89aaf90529aa474f537c081d71f ┆ Ce8bc5cd3aa30776ab6d35fdc2bcc4 ┆ C54130f1c76aaa5380fa631a6a6591 │\n",
       "│ f584fa0179bdde8269c9ae4b80b2e5 ┆ 707f4ac2919                    ┆ 21284978c5d                    │\n",
       "│ c96f7                          ┆                                ┆                                │\n",
       "│ Rf0c39549766c89963dbb1a98f8f1d ┆ Ce8bc5cd3aa30776ab6d35fdc2bcc4 ┆ Cfa5e885b86c8c37a465cad5238ed6 │\n",
       "│ 4b89431cf4ee60f962c7703ef9df5b ┆ 707f4ac2919                    ┆ 2672498a45d                    │\n",
       "│ cb327                          ┆                                ┆                                │\n",
       "│ Rad931d485dae8cbc9aa07c1301163 ┆ Ce8bc5cd3aa30776ab6d35fdc2bcc4 ┆ C57a73b796ef9de341670ad4f89577 │\n",
       "│ f00258690adddbc7279de2b5c92ebc ┆ 707f4ac2919                    ┆ 9c4ce0d4623                    │\n",
       "│ a656f                          ┆                                ┆                                │\n",
       "│ …                              ┆ …                              ┆ …                              │\n",
       "│ Rc52c2d326695e43c104ecd4a11b20 ┆ C92af25813ba38f4e1f385dc92b0e2 ┆ C5e8022bf3b0f1ee82b5ec45f5c89f │\n",
       "│ ead83987b49c39bbc0c165c7d25b8f ┆ 53dc7a01f6c                    ┆ 69ea2ab5a29                    │\n",
       "│ ef8b5                          ┆                                ┆                                │\n",
       "│ Rb993c3707a42c88a143334e22d4af ┆ C326b3a90bc4bff0d2cf249e40ce51 ┆ Ca4ef9345ff26e4fec21cc7fb72fa9 │\n",
       "│ 7eacf0dde11657106b272262f033e1 ┆ 7af77a62d0d                    ┆ dca2f86fcc5                    │\n",
       "│ 7d424                          ┆                                ┆                                │\n",
       "│ Rc1fdf76ef8f34b7c3a7538fcb9924 ┆ C62f5460835a65fcb75c6c8da0f7f6 ┆ Ce9a6758cc6c58ca618292cde869df │\n",
       "│ dd3a44615fd990b2da338cc61b7917 ┆ f90c060d900                    ┆ 568a1c34cb8                    │\n",
       "│ 34e6d                          ┆                                ┆                                │\n",
       "└────────────────────────────────┴────────────────────────────────┴────────────────────────────────┘"
      ]
     },
     "execution_count": 2,
     "metadata": {},
     "output_type": "execute_result"
    }
   ],
   "source": [
    "# Filter out rows with empty lists\n",
    "df_filtered = df.filter((pl.col(\"starting_compounds\").list.len() > 0) & (pl.col(\"predicted_compounds\").list.len() > 0))\n",
    "\n",
    "# Ensure both columns have matching element counts\n",
    "df_exploded = df_filtered.explode(['starting_compounds']).explode(['predicted_compounds'])\n",
    "\n",
    "df_exploded"
   ]
  },
  {
   "cell_type": "code",
   "execution_count": 3,
   "id": "bd52be4f-d8bc-4e3e-9740-349d82df95c0",
   "metadata": {},
   "outputs": [
    {
     "name": "stdout",
     "output_type": "stream",
     "text": [
      "shape: (9, 4)\n",
      "┌────────────┬────────────────────────────┬────────────────────────────┬───────────────────────────┐\n",
      "│ statistic  ┆ reaction_id                ┆ starting_compounds         ┆ predicted_compounds       │\n",
      "│ ---        ┆ ---                        ┆ ---                        ┆ ---                       │\n",
      "│ str        ┆ str                        ┆ str                        ┆ str                       │\n",
      "╞════════════╪════════════════════════════╪════════════════════════════╪═══════════════════════════╡\n",
      "│ count      ┆ 3455876                    ┆ 3455876                    ┆ 3455876                   │\n",
      "│ null_count ┆ 0                          ┆ 0                          ┆ 0                         │\n",
      "│ mean       ┆ null                       ┆ null                       ┆ null                      │\n",
      "│ std        ┆ null                       ┆ null                       ┆ null                      │\n",
      "│ …          ┆ …                          ┆ …                          ┆ …                         │\n",
      "│ 50%        ┆ null                       ┆ null                       ┆ null                      │\n",
      "│ 75%        ┆ null                       ┆ null                       ┆ null                      │\n",
      "│ max        ┆ Rffffff7989ad9ccebbc3d301f ┆ Cffffbdd5aef96887511bc3ea4 ┆ Cfffffc00b3a3eb6c5b531da2 │\n",
      "│            ┆ 56eb557d026d4b0052bd2908fd ┆ ffa7b2f3e15bb64            ┆ d3b498fc35b55a7f          │\n",
      "│            ┆ 2cbaddfb09130              ┆                            ┆                           │\n",
      "└────────────┴────────────────────────────┴────────────────────────────┴───────────────────────────┘\n",
      "reaction_id: 3352990\n",
      "starting compounds:  146841\n",
      "predicted_compounds: 3284418\n"
     ]
    }
   ],
   "source": [
    "print( df_exploded.describe() )\n",
    "\n",
    "print(\"reaction_id:\", df_exploded[:, 'reaction_id'].unique().count())\n",
    "print(\"starting compounds: \", df_exploded[:, 'starting_compounds'].unique().count())\n",
    "print(\"predicted_compounds:\", df_exploded[:, 'predicted_compounds'].unique().count())\n"
   ]
  },
  {
   "cell_type": "code",
   "execution_count": 4,
   "id": "4bf66372-32f0-4c32-bf82-c3426491a6c0",
   "metadata": {},
   "outputs": [
    {
     "ename": "NameError",
     "evalue": "name 'nx' is not defined",
     "output_type": "error",
     "traceback": [
      "\u001b[0;31m---------------------------------------------------------------------------\u001b[0m",
      "\u001b[0;31mNameError\u001b[0m                                 Traceback (most recent call last)",
      "Cell \u001b[0;32mIn[4], line 2\u001b[0m\n\u001b[1;32m      1\u001b[0m \u001b[38;5;66;03m# Create a directed graph\u001b[39;00m\n\u001b[0;32m----> 2\u001b[0m G \u001b[38;5;241m=\u001b[39m \u001b[43mnx\u001b[49m\u001b[38;5;241m.\u001b[39mDiGraph()\n\u001b[1;32m      4\u001b[0m \u001b[38;5;66;03m# Convert the DataFrame to a list of dictionaries\u001b[39;00m\n\u001b[1;32m      5\u001b[0m rows \u001b[38;5;241m=\u001b[39m df_exploded\u001b[38;5;241m.\u001b[39mto_dicts()\n",
      "\u001b[0;31mNameError\u001b[0m: name 'nx' is not defined"
     ]
    }
   ],
   "source": [
    "# Create a directed graph\n",
    "G = nx.DiGraph()\n",
    "\n",
    "# Convert the DataFrame to a list of dictionaries\n",
    "rows = df_exploded.to_dicts()\n",
    "\n",
    "# Add edges to the graph\n",
    "for row in rows:\n",
    "    starting_compound = row['starting_compounds']\n",
    "    predicted_compound = row['predicted_compounds']\n",
    "    G.add_edge(starting_compound, predicted_compound)\n",
    "\n",
    "# Draw the graph\n",
    "plt.figure(figsize=(12, 8))\n",
    "pos = nx.spring_layout(G)\n",
    "nx.draw(G, pos, with_labels=True, node_size=3000, node_color=\"skyblue\", font_size=10, font_color=\"black\", font_weight=\"bold\", edge_color=\"gray\")\n",
    "plt.title('Compound Prediction Network')\n",
    "plt.show()"
   ]
  },
  {
   "cell_type": "code",
   "execution_count": null,
   "id": "6b116ae2-368e-4bac-8e1b-d4e6eec12c79",
   "metadata": {},
   "outputs": [],
   "source": []
  }
 ],
 "metadata": {
  "kernelspec": {
   "display_name": "Python 3 (ipykernel)",
   "language": "python",
   "name": "python3"
  },
  "language_info": {
   "codemirror_mode": {
    "name": "ipython",
    "version": 3
   },
   "file_extension": ".py",
   "mimetype": "text/x-python",
   "name": "python",
   "nbconvert_exporter": "python",
   "pygments_lexer": "ipython3",
   "version": "3.10.12"
  }
 },
 "nbformat": 4,
 "nbformat_minor": 5
}
