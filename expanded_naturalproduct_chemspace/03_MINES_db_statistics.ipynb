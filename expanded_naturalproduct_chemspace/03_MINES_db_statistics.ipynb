{
 "cells": [
  {
   "cell_type": "code",
   "execution_count": 1,
   "id": "6233477d-50da-4ccd-8c5f-af41bd6ef72d",
   "metadata": {},
   "outputs": [],
   "source": [
    "import networkx as nx\n",
    "import matplotlib.pyplot as plt\n",
    "import polars as pl\n",
    "import numpy as np\n",
    "\n",
    "\n",
    "\n",
    "df = pl.read_parquet(\"../data/statistic/reactions_compounds_list.csv\")"
   ]
  },
  {
   "cell_type": "code",
   "execution_count": 2,
   "id": "9dc9826c-aaca-437a-897a-be0afe930209",
   "metadata": {},
   "outputs": [
    {
     "data": {
      "text/html": [
       "<div><style>\n",
       ".dataframe > thead > tr,\n",
       ".dataframe > tbody > tr {\n",
       "  text-align: right;\n",
       "  white-space: pre-wrap;\n",
       "}\n",
       "</style>\n",
       "<small>shape: (3_455_876, 3)</small><table border=\"1\" class=\"dataframe\"><thead><tr><th>reaction_id</th><th>starting_compounds</th><th>predicted_compounds</th></tr><tr><td>str</td><td>str</td><td>str</td></tr></thead><tbody><tr><td>&quot;R5d8539f1d9a5e857189956bad8eb4…</td><td>&quot;Ce8bc5cd3aa30776ab6d35fdc2bcc4…</td><td>&quot;C878f017efe6de2805a953d0ca9b84…</td></tr><tr><td>&quot;R6a89aaf90529aa474f537c081d71f…</td><td>&quot;Ce8bc5cd3aa30776ab6d35fdc2bcc4…</td><td>&quot;C54130f1c76aaa5380fa631a6a6591…</td></tr><tr><td>&quot;Rf0c39549766c89963dbb1a98f8f1d…</td><td>&quot;Ce8bc5cd3aa30776ab6d35fdc2bcc4…</td><td>&quot;Cfa5e885b86c8c37a465cad5238ed6…</td></tr><tr><td>&quot;Rad931d485dae8cbc9aa07c1301163…</td><td>&quot;Ce8bc5cd3aa30776ab6d35fdc2bcc4…</td><td>&quot;C57a73b796ef9de341670ad4f89577…</td></tr><tr><td>&quot;R02b3ad62ed7e42f819c6931a7d392…</td><td>&quot;Ce8bc5cd3aa30776ab6d35fdc2bcc4…</td><td>&quot;C8e1b680b68eec30be34c6b4857d63…</td></tr><tr><td>&hellip;</td><td>&hellip;</td><td>&hellip;</td></tr><tr><td>&quot;Rc723ce445a5fba620734ccd14de89…</td><td>&quot;C9e207ca3de0a74a8b2c0df254e4df…</td><td>&quot;C482f27d0b29b0db769b25f0125ead…</td></tr><tr><td>&quot;Rb8ddccb3d03c58c136ea291ba8e86…</td><td>&quot;Ca9555f122d3c1dbb9dcc330c98bae…</td><td>&quot;C70c44600418e9ee2471c9052a4f48…</td></tr><tr><td>&quot;Rc52c2d326695e43c104ecd4a11b20…</td><td>&quot;C92af25813ba38f4e1f385dc92b0e2…</td><td>&quot;C5e8022bf3b0f1ee82b5ec45f5c89f…</td></tr><tr><td>&quot;Rb993c3707a42c88a143334e22d4af…</td><td>&quot;C326b3a90bc4bff0d2cf249e40ce51…</td><td>&quot;Ca4ef9345ff26e4fec21cc7fb72fa9…</td></tr><tr><td>&quot;Rc1fdf76ef8f34b7c3a7538fcb9924…</td><td>&quot;C62f5460835a65fcb75c6c8da0f7f6…</td><td>&quot;Ce9a6758cc6c58ca618292cde869df…</td></tr></tbody></table></div>"
      ],
      "text/plain": [
       "shape: (3_455_876, 3)\n",
       "┌────────────────────────────────┬────────────────────────────────┬────────────────────────────────┐\n",
       "│ reaction_id                    ┆ starting_compounds             ┆ predicted_compounds            │\n",
       "│ ---                            ┆ ---                            ┆ ---                            │\n",
       "│ str                            ┆ str                            ┆ str                            │\n",
       "╞════════════════════════════════╪════════════════════════════════╪════════════════════════════════╡\n",
       "│ R5d8539f1d9a5e857189956bad8eb4 ┆ Ce8bc5cd3aa30776ab6d35fdc2bcc4 ┆ C878f017efe6de2805a953d0ca9b84 │\n",
       "│ …                              ┆ …                              ┆ …                              │\n",
       "│ R6a89aaf90529aa474f537c081d71f ┆ Ce8bc5cd3aa30776ab6d35fdc2bcc4 ┆ C54130f1c76aaa5380fa631a6a6591 │\n",
       "│ …                              ┆ …                              ┆ …                              │\n",
       "│ Rf0c39549766c89963dbb1a98f8f1d ┆ Ce8bc5cd3aa30776ab6d35fdc2bcc4 ┆ Cfa5e885b86c8c37a465cad5238ed6 │\n",
       "│ …                              ┆ …                              ┆ …                              │\n",
       "│ Rad931d485dae8cbc9aa07c1301163 ┆ Ce8bc5cd3aa30776ab6d35fdc2bcc4 ┆ C57a73b796ef9de341670ad4f89577 │\n",
       "│ …                              ┆ …                              ┆ …                              │\n",
       "│ R02b3ad62ed7e42f819c6931a7d392 ┆ Ce8bc5cd3aa30776ab6d35fdc2bcc4 ┆ C8e1b680b68eec30be34c6b4857d63 │\n",
       "│ …                              ┆ …                              ┆ …                              │\n",
       "│ …                              ┆ …                              ┆ …                              │\n",
       "│ Rc723ce445a5fba620734ccd14de89 ┆ C9e207ca3de0a74a8b2c0df254e4df ┆ C482f27d0b29b0db769b25f0125ead │\n",
       "│ …                              ┆ …                              ┆ …                              │\n",
       "│ Rb8ddccb3d03c58c136ea291ba8e86 ┆ Ca9555f122d3c1dbb9dcc330c98bae ┆ C70c44600418e9ee2471c9052a4f48 │\n",
       "│ …                              ┆ …                              ┆ …                              │\n",
       "│ Rc52c2d326695e43c104ecd4a11b20 ┆ C92af25813ba38f4e1f385dc92b0e2 ┆ C5e8022bf3b0f1ee82b5ec45f5c89f │\n",
       "│ …                              ┆ …                              ┆ …                              │\n",
       "│ Rb993c3707a42c88a143334e22d4af ┆ C326b3a90bc4bff0d2cf249e40ce51 ┆ Ca4ef9345ff26e4fec21cc7fb72fa9 │\n",
       "│ …                              ┆ …                              ┆ …                              │\n",
       "│ Rc1fdf76ef8f34b7c3a7538fcb9924 ┆ C62f5460835a65fcb75c6c8da0f7f6 ┆ Ce9a6758cc6c58ca618292cde869df │\n",
       "│ …                              ┆ …                              ┆ …                              │\n",
       "└────────────────────────────────┴────────────────────────────────┴────────────────────────────────┘"
      ]
     },
     "execution_count": 2,
     "metadata": {},
     "output_type": "execute_result"
    }
   ],
   "source": [
    "# Filter out rows with empty lists\n",
    "df_filtered = df.filter((pl.col(\"starting_compounds\").list.len() > 0) & (pl.col(\"predicted_compounds\").list.len() > 0))\n",
    "\n",
    "# Ensure both columns have matching element counts\n",
    "df_exploded = df_filtered.explode(['starting_compounds']).explode(['predicted_compounds'])\n",
    "\n",
    "df_exploded"
   ]
  },
  {
   "cell_type": "code",
   "execution_count": 3,
   "id": "bd52be4f-d8bc-4e3e-9740-349d82df95c0",
   "metadata": {},
   "outputs": [
    {
     "name": "stdout",
     "output_type": "stream",
     "text": [
      "shape: (9, 4)\n",
      "┌────────────┬────────────────────────────┬────────────────────────────┬───────────────────────────┐\n",
      "│ statistic  ┆ reaction_id                ┆ starting_compounds         ┆ predicted_compounds       │\n",
      "│ ---        ┆ ---                        ┆ ---                        ┆ ---                       │\n",
      "│ str        ┆ str                        ┆ str                        ┆ str                       │\n",
      "╞════════════╪════════════════════════════╪════════════════════════════╪═══════════════════════════╡\n",
      "│ count      ┆ 3455876                    ┆ 3455876                    ┆ 3455876                   │\n",
      "│ null_count ┆ 0                          ┆ 0                          ┆ 0                         │\n",
      "│ mean       ┆ null                       ┆ null                       ┆ null                      │\n",
      "│ std        ┆ null                       ┆ null                       ┆ null                      │\n",
      "│ min        ┆ R0000002c9105808f4b4eff516 ┆ C0000ef293ecef3b3c5c31093a ┆ C00000461f6d9069e4c786058 │\n",
      "│            ┆ d5f8…                      ┆ 4724…                      ┆ 09dac…                    │\n",
      "│ 25%        ┆ null                       ┆ null                       ┆ null                      │\n",
      "│ 50%        ┆ null                       ┆ null                       ┆ null                      │\n",
      "│ 75%        ┆ null                       ┆ null                       ┆ null                      │\n",
      "│ max        ┆ Rffffff7989ad9ccebbc3d301f ┆ Cffffbdd5aef96887511bc3ea4 ┆ Cfffffc00b3a3eb6c5b531da2 │\n",
      "│            ┆ 56eb…                      ┆ ffa7…                      ┆ d3b49…                    │\n",
      "└────────────┴────────────────────────────┴────────────────────────────┴───────────────────────────┘\n",
      "reaction_id 3352990\n",
      "starting compounds:  146841\n",
      "predicted_compounds 3284418\n"
     ]
    }
   ],
   "source": [
    "print( df_exploded.describe() )\n",
    "\n",
    "print(\"reaction_id\", df_exploded[:, 'reaction_id'].unique().count())\n",
    "print(\"starting compounds: \", df_exploded[:, 'starting_compounds'].unique().count())\n",
    "print(\"predicted_compounds\", df_exploded[:, 'predicted_compounds'].unique().count())\n"
   ]
  },
  {
   "cell_type": "code",
   "execution_count": null,
   "id": "4bf66372-32f0-4c32-bf82-c3426491a6c0",
   "metadata": {},
   "outputs": [],
   "source": [
    "# Create a directed graph\n",
    "G = nx.DiGraph()\n",
    "\n",
    "# Convert the DataFrame to a list of dictionaries\n",
    "rows = df_exploded.to_dicts()\n",
    "\n",
    "# Add edges to the graph\n",
    "for row in rows:\n",
    "    starting_compound = row['starting_compounds']\n",
    "    predicted_compound = row['predicted_compounds']\n",
    "    G.add_edge(starting_compound, predicted_compound)\n",
    "\n",
    "# Draw the graph\n",
    "plt.figure(figsize=(12, 8))\n",
    "pos = nx.spring_layout(G)\n",
    "nx.draw(G, pos, with_labels=True, node_size=3000, node_color=\"skyblue\", font_size=10, font_color=\"black\", font_weight=\"bold\", edge_color=\"gray\")\n",
    "plt.title('Compound Prediction Network')\n",
    "plt.show()"
   ]
  },
  {
   "cell_type": "code",
   "execution_count": null,
   "id": "6b116ae2-368e-4bac-8e1b-d4e6eec12c79",
   "metadata": {},
   "outputs": [],
   "source": []
  }
 ],
 "metadata": {
  "kernelspec": {
   "display_name": "Python 3 (ipykernel)",
   "language": "python",
   "name": "python3"
  },
  "language_info": {
   "codemirror_mode": {
    "name": "ipython",
    "version": 3
   },
   "file_extension": ".py",
   "mimetype": "text/x-python",
   "name": "python",
   "nbconvert_exporter": "python",
   "pygments_lexer": "ipython3",
   "version": "3.12.2"
  }
 },
 "nbformat": 4,
 "nbformat_minor": 5
}
