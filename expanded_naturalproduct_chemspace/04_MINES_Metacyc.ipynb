{
 "cells": [
  {
   "cell_type": "markdown",
   "id": "d074debe-484a-47a7-879d-49b3a1286c2d",
   "metadata": {},
   "source": [
    "# Search for known compounds"
   ]
  },
  {
   "cell_type": "markdown",
   "id": "645d3a0a-f6a0-4681-a43a-fb4bffc0f29f",
   "metadata": {},
   "source": [
    "With the database MetaCyc <https://metacyc.org/> the generated \"predicted compounds\" will be searched."
   ]
  },
  {
   "cell_type": "code",
   "execution_count": null,
   "id": "cd374628-ec7a-496b-8787-b491f52efe71",
   "metadata": {},
   "outputs": [
    {
     "name": "stdout",
     "output_type": "stream",
     "text": [
      "Error: Unable to retrieve data for GACDQMDRPRGCTN (status code 404)\n",
      "Error: Unable to retrieve data for Nc1ncnc2c1ncn2C1OC(COP(=O)(O)OS(=O)(=O)O)C(OP(=O)(O)O)C1O (status code 404)\n",
      "Error: Unable to retrieve data for XLYOFNOQVPJJNP (status code 404)\n",
      "Error: Unable to retrieve data for CBIDRCWHNCKSTO (status code 404)\n",
      "Error: Unable to retrieve data for CC(C)=CCOP(=O)(O)OP(=O)(O)O (status code 404)\n",
      "Error: Unable to retrieve data for BOPGDPNILDQYTO (status code 404)\n",
      "Error: Unable to retrieve data for NC(=O)C1=CN(C2OC(COP(=O)(O)OP(=O)(O)OCC3OC(n4cnc5c(N)ncnc54)C(O)C3O)C(O)C2O)C=CC1 (status code 404)\n",
      "Error: Unable to retrieve data for BAWFJGJZGIEFAR (status code 404)\n",
      "Error: Unable to retrieve data for NC(=O)c1ccc[n+](C2OC(COP(=O)(O)OP(=O)(O)OCC3OC(n4cnc5c(N)ncnc54)C(O)C3O)C(O)C2O)c1 (status code 404)\n",
      "Error: Unable to retrieve data for ZJUKTBDSGOFHSH (status code 404)\n",
      "Error: Unable to retrieve data for Nc1ncnc2c1ncn2C1OC(CSCCC(N)C(=O)O)C(O)C1O (status code 404)\n",
      "Error: Unable to retrieve data for KPGXRSRHYNQIFN (status code 404)\n",
      "Error: Unable to retrieve data for CURLTUGMZLYLDI (status code 404)\n",
      "Error: Unable to retrieve data for MYMOFIZGZYHOMD (status code 404)\n",
      "Error: Unable to retrieve data for MEFKEPWMEQBLKI (status code 404)\n",
      "Error: Unable to retrieve data for C[S+](CCC(N)C(=O)O)CC1OC(n2cnc3c(N)ncnc32)C(O)C1O (status code 404)\n",
      "Error: Unable to retrieve data for WHUUTDBJXJRKMK (status code 404)\n",
      "Error: Unable to retrieve data for N[C@@H](CCC(=O)O)C(=O)O (status code 404)\n",
      "Error: Unable to retrieve data for ISWSIDIOOBJBQZ (status code 404)\n",
      "Error: Unable to retrieve data for Oc1ccccc1 (status code 404)\n",
      "Error: Unable to retrieve data for ZSLZBFCDCINBPY (status code 404)\n",
      "Error: Unable to retrieve data for CC(=O)SCCNC(=O)CCNC(=O)C(O)C(C)(C)COP(=O)(O)OP(=O)(O)OCC1OC(n2cnc3c(N)ncnc32)C(O)C1OP(=O)(O)O (status code 404)\n",
      "Error: Unable to retrieve data for RGJOEKWQDUBAIZ (status code 404)\n",
      "Error: Unable to retrieve data for CC(C)(COP(=O)(O)OP(=O)(O)OCC1OC(n2cnc3c(N)ncnc32)C(O)C1OP(=O)(O)O)C(O)C(=O)NCCC(=O)NCCS (status code 404)\n",
      "Error: Unable to retrieve data for BVKZGUZCCUSVTD (status code 404)\n",
      "Error: Unable to retrieve data for WSFSSNUMVMOOMR (status code 404)\n",
      "Error: Unable to retrieve data for MHAJPDPJQMAIIY (status code 404)\n",
      "Error: Unable to retrieve data for OO (status code 404)\n",
      "Error: Unable to retrieve data for WHTCPDAXWFLDIH (status code 404)\n",
      "Error: Unable to retrieve data for Nc1ncnc2c1ncn2C1OC(COP(=O)(O)O)C(OP(=O)(O)O)C1O (status code 404)\n"
     ]
    }
   ],
   "source": [
    "import pymongo\n",
    "import requests\n",
    "from bs4 import BeautifulSoup\n",
    "import polars as pl\n",
    "\n",
    "# Function to search MetaCyc for a compound based on InChIKey or SMILES\n",
    "def search_metacyc(query):\n",
    "    search_url = \"https://metacyc.org/compound?type=NIL&object=\"\n",
    "    \n",
    "    response = requests.get(search_url + query)\n",
    "    if response.status_code == 200:\n",
    "        return response.text\n",
    "    else:\n",
    "        print(f\"Error: Unable to retrieve data for {query} (status code {response.status_code})\")\n",
    "        return None\n",
    "\n",
    "# Function to extract the relevant MetaCyc link from the HTML\n",
    "def extract_metacyc_link(html_content):\n",
    "    soup = BeautifulSoup(html_content, 'html.parser')\n",
    "    link_tag = soup.find('a', href=True)\n",
    "    \n",
    "    if link_tag:\n",
    "        return \"https://metacyc.org\" + link_tag['href']\n",
    "    else:\n",
    "        return None\n",
    "\n",
    "# Connect to MongoDB\n",
    "client = pymongo.MongoClient(\"mongodb://localhost:27017/\")\n",
    "db = client[\"lotus_mines_enzymatic\"]\n",
    "compounds_collection = db[\"compounds\"]\n",
    "\n",
    "# Initialize lists for Polars DataFrame\n",
    "compound_ids = []\n",
    "smiles_links = []\n",
    "inchi_links = []\n",
    "\n",
    "# Iterate through the compounds in the MongoDB collection\n",
    "for compound in compounds_collection.find():\n",
    "    compound_id = compound.get('_id')\n",
    "    inchi_key = compound.get('InChI_key')\n",
    "    smiles = compound.get('SMILES')\n",
    "    \n",
    "    # Search MetaCyc using the InChIKey\n",
    "    inchi_html = search_metacyc(inchi_key)\n",
    "    inchi_link = extract_metacyc_link(inchi_html) if inchi_html else None\n",
    "    \n",
    "    # Search MetaCyc using the SMILES\n",
    "    smiles_html = search_metacyc(smiles)\n",
    "    smiles_link = extract_metacyc_link(smiles_html) if smiles_html else None\n",
    "    \n",
    "    # Store results in lists\n",
    "    compound_ids.append(compound_id)\n",
    "    smiles_links.append(smiles_link)\n",
    "    inchi_links.append(inchi_link)\n",
    "\n",
    "print(f\"annotated compounds in metacyc: {len(compound_ids)} | {len(smiles_links)} | {len(inchi_links)}\")"
   ]
  },
  {
   "cell_type": "code",
   "execution_count": null,
   "id": "e1f35994-db8f-4ad9-b2af-24a17703bed1",
   "metadata": {},
   "outputs": [],
   "source": [
    "pubchem (look overlap)"
   ]
  }
 ],
 "metadata": {
  "kernelspec": {
   "display_name": "Python 3 (ipykernel)",
   "language": "python",
   "name": "python3"
  },
  "language_info": {
   "codemirror_mode": {
    "name": "ipython",
    "version": 3
   },
   "file_extension": ".py",
   "mimetype": "text/x-python",
   "name": "python",
   "nbconvert_exporter": "python",
   "pygments_lexer": "ipython3",
   "version": "3.10.12"
  }
 },
 "nbformat": 4,
 "nbformat_minor": 5
}
