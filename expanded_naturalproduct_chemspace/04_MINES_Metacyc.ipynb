{
 "cells": [
  {
   "cell_type": "markdown",
   "id": "d074debe-484a-47a7-879d-49b3a1286c2d",
   "metadata": {},
   "source": [
    "# Search for known compounds"
   ]
  },
  {
   "cell_type": "markdown",
   "id": "645d3a0a-f6a0-4681-a43a-fb4bffc0f29f",
   "metadata": {},
   "source": [
    "With the database MetaCyc <https://metacyc.org/> the generated \"predicted compounds\" will be searched."
   ]
  },
  {
   "cell_type": "code",
   "execution_count": 1,
   "id": "fe36fe80-c9b5-46dc-8ee9-843748d29723",
   "metadata": {},
   "outputs": [
    {
     "name": "stderr",
     "output_type": "stream",
     "text": [
      "Processing Compounds: 3432312compound [00:15, 226615.09compound/s]"
     ]
    },
    {
     "name": "stdout",
     "output_type": "stream",
     "text": [
      "CPU times: user 12.1 s, sys: 661 ms, total: 12.8 s\n",
      "Wall time: 15.4 s\n"
     ]
    },
    {
     "name": "stderr",
     "output_type": "stream",
     "text": [
      "\n"
     ]
    }
   ],
   "source": [
    "%%time\n",
    "\n",
    "import requests\n",
    "from bs4 import BeautifulSoup\n",
    "import pymongo\n",
    "import polars as pl\n",
    "from tqdm import tqdm\n",
    "\n",
    "# MongoDB connection\n",
    "client = pymongo.MongoClient(\"mongodb://localhost:27017/\")\n",
    "db = client[\"lotus_mines_enzymatic\"]\n",
    "compounds_collection = db[\"compounds\"]\n",
    "\n",
    "# Function to search MetaCyc\n",
    "def search_metacyc(compound_name):\n",
    "    search_url = \"https://metacyc.org/compound?type=NIL&object=\"\n",
    "    response = requests.get(search_url + compound_name)\n",
    "    \n",
    "    if response.status_code == 200:\n",
    "        return response.text\n",
    "    else:\n",
    "        return None\n",
    "\n",
    "# Function to extract SMILES from MetaCyc HTML content\n",
    "def extract_smiles(html_content):\n",
    "    soup = BeautifulSoup(html_content, 'html.parser')\n",
    "    smiles_tag = soup.find('td', text='SMILES')\n",
    "    \n",
    "    if smiles_tag:\n",
    "        smiles_value = smiles_tag.find_next_sibling('td').text.strip()\n",
    "        return smiles_value\n",
    "    else:\n",
    "        return None\n",
    "\n",
    "# Function to process each compound\n",
    "def process_compound(compound):\n",
    "    compound_type = compound.get(\"type\")\n",
    "    \n",
    "    # Only process if the compound's type is \"Predicted\"\n",
    "    if compound_type != \"Predicted\":\n",
    "        return None\n",
    "    \n",
    "    # Search MetaCyc for the compound\n",
    "    html_content = search_metacyc(compound[\"name\"])\n",
    "    \n",
    "    if html_content:\n",
    "        smiles = extract_smiles(html_content)\n",
    "        return smiles\n",
    "    else:\n",
    "        return None\n",
    "\n",
    "# Main script\n",
    "if __name__ == \"__main__\":\n",
    "    results = []\n",
    "\n",
    "    # Retrieve compounds from MongoDB\n",
    "    compounds = compounds_collection.find({})\n",
    "    \n",
    "    # Use tqdm to display a progress bar\n",
    "    for compound in tqdm(compounds, desc=\"Processing Compounds\", unit=\" compound\"):\n",
    "        smiles = process_compound(compound)\n",
    "        if smiles:\n",
    "            results.append({\n",
    "                \"Compound_id\": compound[\"_id\"],\n",
    "                \"SMILES\": smiles,\n",
    "                \"InChI_key\": compound[\"InChI_key\"]\n",
    "            })"
   ]
  },
  {
   "cell_type": "code",
   "execution_count": 5,
   "id": "9b7b3bb2-b33e-41b0-9c7d-03a4fce7b493",
   "metadata": {
    "scrolled": true
   },
   "outputs": [
    {
     "name": "stderr",
     "output_type": "stream",
     "text": [
      "Processing Compounds: 3432312compound [00:15, 225981.74compound/s]"
     ]
    },
    {
     "name": "stdout",
     "output_type": "stream",
     "text": [
      "[]\n",
      "CPU times: user 12.3 s, sys: 276 ms, total: 12.6 s\n",
      "Wall time: 15.2 s\n"
     ]
    },
    {
     "name": "stderr",
     "output_type": "stream",
     "text": [
      "\n"
     ]
    }
   ],
   "source": [
    "%%time\n",
    "\n",
    "import requests\n",
    "from bs4 import BeautifulSoup\n",
    "import pymongo\n",
    "import polars as pl\n",
    "from tqdm import tqdm\n",
    "\n",
    "# MongoDB connection\n",
    "client = pymongo.MongoClient(\"mongodb://localhost:27017/\")\n",
    "db = client[\"lotus_mines_enzymatic\"]\n",
    "compounds_collection = db[\"compounds\"]\n",
    "\n",
    "# Function to search MetaCyc\n",
    "def search_metacyc(compound_name):\n",
    "    search_url = \"https://metacyc.org/compound?type=NIL&object=\"\n",
    "    response = requests.get(search_url + compound_name)\n",
    "    \n",
    "    if response.status_code == 200:\n",
    "        return response.text\n",
    "    else:\n",
    "        print(f\"Error: Unable to retrieve data (status code {response.status_code}) for {compound_name}\")\n",
    "        return None\n",
    "\n",
    "# Function to extract SMILES from MetaCyc HTML content\n",
    "def extract_smiles(html_content):\n",
    "    soup = BeautifulSoup(html_content, 'html.parser')\n",
    "    smiles_tag = soup.find('td', text='SMILES')\n",
    "    \n",
    "    if smiles_tag:\n",
    "        smiles_value = smiles_tag.find_next_sibling('td').text.strip()\n",
    "        return smiles_value\n",
    "    else:\n",
    "        print(\"SMILES string not found in the HTML content.\")\n",
    "        return None\n",
    "\n",
    "# Function to process each compound\n",
    "def process_compound(compound):\n",
    "    compound_type = compound.get(\"type\")\n",
    "    \n",
    "    # Only process if the compound's type is \"Predicted\"\n",
    "    if compound_type != \"Predicted\":\n",
    "        #print(f\"Skipping {compound['InChI_key']} because it is not of type 'Predicted'.\")\n",
    "        return None\n",
    "    \n",
    "    # Search MetaCyc for the compound\n",
    "    html_content = search_metacyc(compound[\"name\"])\n",
    "    \n",
    "    if html_content:\n",
    "        smiles = extract_smiles(html_content)\n",
    "        return smiles\n",
    "    else:\n",
    "        return None\n",
    "\n",
    "# Main script\n",
    "if __name__ == \"__main__\":\n",
    "    results = []\n",
    "\n",
    "    # Retrieve compounds from MongoDB\n",
    "    compounds = compounds_collection.find({})\n",
    "    \n",
    "    # Use tqdm to display a progress bar\n",
    "    for compound in tqdm(compounds, desc=\"Processing Compounds\", unit=\"compound\"):\n",
    "        smiles = process_compound(compound)\n",
    "        if smiles:\n",
    "            results.append({\n",
    "                \"Compound_id\": compound[\"_id\"],\n",
    "                \"SMILES\": smiles,\n",
    "                \"InChI_key\": compound[\"InChI_key\"]\n",
    "            })\n",
    "\n",
    "    print(results)"
   ]
  },
  {
   "cell_type": "code",
   "execution_count": 2,
   "id": "7da0bb82-1114-4907-8907-26ba91d6300f",
   "metadata": {},
   "outputs": [
    {
     "name": "stdout",
     "output_type": "stream",
     "text": [
      "shape: (0, 0)\n",
      "┌┐\n",
      "╞╡\n",
      "└┘\n"
     ]
    }
   ],
   "source": [
    "# Convert results to a Polars DataFrame\n",
    "df = pl.DataFrame(results)\n",
    "\n",
    "# Save the DataFrame to a file or further processing\n",
    "#df.write_csv(\"metacyc_results.csv\")\n",
    "print(df)"
   ]
  },
  {
   "cell_type": "code",
   "execution_count": null,
   "id": "e1f35994-db8f-4ad9-b2af-24a17703bed1",
   "metadata": {},
   "outputs": [],
   "source": [
    "pubchem (look overlap)"
   ]
  }
 ],
 "metadata": {
  "kernelspec": {
   "display_name": "Python 3 (ipykernel)",
   "language": "python",
   "name": "python3"
  },
  "language_info": {
   "codemirror_mode": {
    "name": "ipython",
    "version": 3
   },
   "file_extension": ".py",
   "mimetype": "text/x-python",
   "name": "python",
   "nbconvert_exporter": "python",
   "pygments_lexer": "ipython3",
   "version": "3.10.12"
  }
 },
 "nbformat": 4,
 "nbformat_minor": 5
}
