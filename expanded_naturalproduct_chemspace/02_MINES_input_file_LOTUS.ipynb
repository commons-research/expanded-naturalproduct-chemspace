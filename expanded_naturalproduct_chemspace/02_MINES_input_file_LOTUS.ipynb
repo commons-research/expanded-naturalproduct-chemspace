{
 "cells": [
  {
   "cell_type": "code",
   "execution_count": 1,
   "id": "3d90a38d-ee59-4c84-bbaa-c741e356da7d",
   "metadata": {},
   "outputs": [],
   "source": [
    "from defl import * \n",
    "\n",
    "# change the configsetting, to see the full tables\n",
    "pl.Config.set_tbl_rows(7)\n",
    "pl.Config(fmt_str_lengths=550)\n",
    "\n",
    "df = pl.read_csv(\"../data/LOTUS/230106_frozen_metadata_inchy_smile.csv\")"
   ]
  },
  {
   "cell_type": "code",
   "execution_count": 2,
   "id": "f714eb15-4382-4319-bc7c-fb5f4e4246e0",
   "metadata": {},
   "outputs": [
    {
     "data": {
      "text/html": [
       "<div><style>\n",
       ".dataframe > thead > tr,\n",
       ".dataframe > tbody > tr {\n",
       "  text-align: right;\n",
       "  white-space: pre-wrap;\n",
       "}\n",
       "</style>\n",
       "<small>shape: (220_823, 2)</small><table border=\"1\" class=\"dataframe\"><thead><tr><th>id</th><th>smiles</th></tr><tr><td>str</td><td>str</td></tr></thead><tbody><tr><td>&quot;XJOOMMHNYOJWCZ-UKRRQHHQSA-N&quot;</td><td>&quot;CC1=C[C@@H]2c3cccc4[nH]cc(c34)C[C@H]2N(C)C1&quot;</td></tr><tr><td>&quot;SFCYVTIQMNZUCZ-UHFFFAOYSA-N&quot;</td><td>&quot;C=C(C)C#Cc1cc(C=O)ccc1O&quot;</td></tr><tr><td>&quot;OYZXDVPSGCKVOQ-UQBPGWFLSA-N&quot;</td><td>&quot;COC(=O)[C@]12CCCC(C)(C)[C@@H]1CCc1cc(C(C)C)c(OC(C)=O)c(OC(C)=O)c12&quot;</td></tr><tr><td>&quot;MSSOSOXUURLBHN-UHFFFAOYSA-N&quot;</td><td>&quot;CCC(=O)OC1C2C(OC(=O)c3ccccc3)C34OC2(C)COC(=O)c2cccnc2C(C)C(C)C(=O)OC(C(O)C(OC(=O)c2ccccc2)C3(COC(C)=O)C1OC(C)=O)C4(C)O&quot;</td></tr><tr><td>&hellip;</td><td>&hellip;</td></tr><tr><td>&quot;QJFRZMZUUGXTJG-WECLKIJSSA-N&quot;</td><td>&quot;C[C@@H]1NC(=O)[C@@H]2[C@H](O)[C@H](O)C=NN2C(=O)COC(=O)[C@](C)(CO)NC(=O)[C@@H]2CCC=NN2C(=O)[C@H]2C[C@H](Cl)CNN2C1=O&quot;</td></tr><tr><td>&quot;YUSYSJSHVJULID-AATRIKPKSA-N&quot;</td><td>&quot;COc1ccc(/C=C/c2cc(OC)c(OC)c(OC)c2)c(O)c1O&quot;</td></tr><tr><td>&quot;AGJPNPDYGCAODE-JLNKQSITSA-N&quot;</td><td>&quot;CC/C=C\\C/C=C\\C/C=C\\C/C=C\\C/C=C\\CCCCCCCCC(=O)c1ccc(CO)[nH]1&quot;</td></tr></tbody></table></div>"
      ],
      "text/plain": [
       "shape: (220_823, 2)\n",
       "┌─────────────────────────────┬────────────────────────────────────────────────────────────────────┐\n",
       "│ id                          ┆ smiles                                                             │\n",
       "│ ---                         ┆ ---                                                                │\n",
       "│ str                         ┆ str                                                                │\n",
       "╞═════════════════════════════╪════════════════════════════════════════════════════════════════════╡\n",
       "│ XJOOMMHNYOJWCZ-UKRRQHHQSA-N ┆ CC1=C[C@@H]2c3cccc4[nH]cc(c34)C[C@H]2N(C)C1                        │\n",
       "│ SFCYVTIQMNZUCZ-UHFFFAOYSA-N ┆ C=C(C)C#Cc1cc(C=O)ccc1O                                            │\n",
       "│ OYZXDVPSGCKVOQ-UQBPGWFLSA-N ┆ COC(=O)[C@]12CCCC(C)(C)[C@@H]1CCc1cc(C(C)C)c(OC(C)=O)c(OC(C)=O)c12 │\n",
       "│ MSSOSOXUURLBHN-UHFFFAOYSA-N ┆ CCC(=O)OC1C2C(OC(=O)c3ccccc3)C34OC2(C)COC(=O)c2cccnc2C(C)C(C)C(=O) │\n",
       "│                             ┆ OC(C(O)C(OC(=O)c2ccccc2)C3(COC(C)=O)C1OC(C)=O)C4(C)O               │\n",
       "│ …                           ┆ …                                                                  │\n",
       "│ QJFRZMZUUGXTJG-WECLKIJSSA-N ┆ C[C@@H]1NC(=O)[C@@H]2[C@H](O)[C@H](O)C=NN2C(=O)COC(=O)[C@](C)(CO)N │\n",
       "│                             ┆ C(=O)[C@@H]2CCC=NN2C(=O)[C@H]2C[C@H](Cl)CNN2C1=O                   │\n",
       "│ YUSYSJSHVJULID-AATRIKPKSA-N ┆ COc1ccc(/C=C/c2cc(OC)c(OC)c(OC)c2)c(O)c1O                          │\n",
       "│ AGJPNPDYGCAODE-JLNKQSITSA-N ┆ CC/C=C\\C/C=C\\C/C=C\\C/C=C\\C/C=C\\CCCCCCCCC(=O)c1ccc(CO)[nH]1         │\n",
       "└─────────────────────────────┴────────────────────────────────────────────────────────────────────┘"
      ]
     },
     "execution_count": 2,
     "metadata": {},
     "output_type": "execute_result"
    }
   ],
   "source": [
    "df"
   ]
  },
  {
   "cell_type": "code",
   "execution_count": 3,
   "id": "a1cefadc-b75e-46b6-b75e-31fb7819cd14",
   "metadata": {},
   "outputs": [
    {
     "name": "stdout",
     "output_type": "stream",
     "text": [
      "\n",
      "Unique over all: 220823\n",
      "Unique ID: 220823\n",
      "Unique smiles: 220820\n",
      "\n"
     ]
    }
   ],
   "source": [
    "print(f\"\"\"\n",
    "Unique over all: {df.unique().shape[0]}\n",
    "Unique ID: {df[\"id\"].unique().shape[0]}\n",
    "Unique smiles: {df[\"smiles\"].unique().shape[0]}\n",
    "\"\"\")"
   ]
  }
 ],
 "metadata": {
  "kernelspec": {
   "display_name": "Python 3 (ipykernel)",
   "language": "python",
   "name": "python3"
  },
  "language_info": {
   "codemirror_mode": {
    "name": "ipython",
    "version": 3
   },
   "file_extension": ".py",
   "mimetype": "text/x-python",
   "name": "python",
   "nbconvert_exporter": "python",
   "pygments_lexer": "ipython3",
   "version": "3.10.12"
  }
 },
 "nbformat": 4,
 "nbformat_minor": 5
}
